{
 "cells": [
  {
   "cell_type": "code",
   "execution_count": 37,
   "id": "04507c14-94d9-45f2-863a-c5af50ddd4db",
   "metadata": {},
   "outputs": [
    {
     "name": "stdin",
     "output_type": "stream",
     "text": [
      "Введите сумму кредита: \n",
      " 4\n",
      "Введите ставку(%): \n",
      " 5\n",
      "Введите платеж: \n",
      " 6\n"
     ]
    },
    {
     "name": "stdout",
     "output_type": "stream",
     "text": [
      "Кредит будет погашен через  1  лет\n"
     ]
    }
   ],
   "source": [
    "loan = float(input (\"Введите сумму кредита: \\n\"))\n",
    "rate = float(input (\"Введите ставку(%): \\n\")) / 100\n",
    "pmt = float(input (\"Введите платеж: \\n\"))\n",
    "if pmt <= (loan * rate):\n",
    "    print(\"Кредит никогда не будет погашен\")\n",
    "else:\n",
    "    i = 0\n",
    "    while loan > 0:\n",
    "        loan = loan + (loan * rate) - pmt\n",
    "        i += 1\n",
    "    print(\"Кредит будет погашен через \", i, \" лет\")"
   ]
  },
  {
   "cell_type": "code",
   "execution_count": 21,
   "id": "dc171bb2-dbbd-47c6-b21b-1bd9b2152fc4",
   "metadata": {},
   "outputs": [
    {
     "data": {
      "text/plain": [
       "100"
      ]
     },
     "execution_count": 21,
     "metadata": {},
     "output_type": "execute_result"
    }
   ],
   "source": [
    "100"
   ]
  },
  {
   "cell_type": "code",
   "execution_count": null,
   "id": "d8149d00-6276-4816-b36a-b69dffd2dfce",
   "metadata": {},
   "outputs": [],
   "source": []
  }
 ],
 "metadata": {
  "kernelspec": {
   "display_name": "Python 3 (ipykernel)",
   "language": "python",
   "name": "python3"
  },
  "language_info": {
   "codemirror_mode": {
    "name": "ipython",
    "version": 3
   },
   "file_extension": ".py",
   "mimetype": "text/x-python",
   "name": "python",
   "nbconvert_exporter": "python",
   "pygments_lexer": "ipython3",
   "version": "3.12.4"
  }
 },
 "nbformat": 4,
 "nbformat_minor": 5
}
